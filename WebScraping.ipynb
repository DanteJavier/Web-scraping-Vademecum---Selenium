{
 "cells": [
  {
   "cell_type": "code",
   "execution_count": 8,
   "metadata": {},
   "outputs": [],
   "source": [
    "import requests\n",
    "import re\n",
    "from bs4 import BeautifulSoup as bs\n",
    "import pandas as pd\n",
    "import numpy as np\n",
    "from selenium import webdriver\n",
    "from selenium.webdriver.common.keys import Keys\n",
    "from selenium.webdriver.common.by import By\n",
    "import time\n",
    "import undetected_chromedriver as uc    \n",
    "from selenium.webdriver.support.ui import WebDriverWait\n",
    "from selenium.webdriver.support import expected_conditions as EC"
   ]
  },
  {
   "cell_type": "code",
   "execution_count": 3,
   "metadata": {},
   "outputs": [],
   "source": [
    "options = uc.ChromeOptions()\n",
    "options.add_argument(\"--no-sandbox\")\n",
    "options.add_argument(\"--disable-dev-shm-usage\")"
   ]
  },
  {
   "cell_type": "code",
   "execution_count": null,
   "metadata": {},
   "outputs": [],
   "source": [
    "browser = uc.Chrome(options=options)\n"
   ]
  },
  {
   "cell_type": "code",
   "execution_count": 6,
   "metadata": {},
   "outputs": [],
   "source": [
    "url='https://servicios.pami.org.ar/vademecum/views/consultaPublica/listado.zul'\n"
   ]
  },
  {
   "cell_type": "code",
   "execution_count": null,
   "metadata": {},
   "outputs": [],
   "source": [
    "browser.get(url)"
   ]
  },
  {
   "cell_type": "code",
   "execution_count": 47,
   "metadata": {},
   "outputs": [],
   "source": [
    "time.sleep(3)\n",
    "input_element = browser.find_element(By.ID, 'zk_comp_40-real').click()\n",
    "time.sleep(3)\n",
    "input_element = browser.find_element(By.ID, 'zk_comp_133-cave').click()\n",
    "time.sleep(3)\n",
    "input_element = browser.find_element(By.ID, 'zk_comp_80').click()\n"
   ]
  },
  {
   "cell_type": "code",
   "execution_count": 48,
   "metadata": {},
   "outputs": [],
   "source": [
    "all_data = []"
   ]
  },
  {
   "cell_type": "code",
   "execution_count": null,
   "metadata": {},
   "outputs": [],
   "source": [
    "try:\n",
    "    # Espera hasta que el div específico esté presente\n",
    "    div_element = WebDriverWait(browser, 10).until(\n",
    "        EC.presence_of_element_located((By.ID, 'zk_comp_98'))\n",
    "    )\n",
    "\n",
    "    # Dentro de este div, encuentra el span con la clase 'z-paging-text'\n",
    "    span_element = div_element.find_element(By.CLASS_NAME, 'z-paging-text')\n",
    "\n",
    "    # Extrae el texto del span\n",
    "    span_text = span_element.text\n",
    "\n",
    "    # Usa una expresión regular para obtener solo el número\n",
    "    match = re.search(r'\\d+', span_text)\n",
    "    if match:\n",
    "        number = match.group()\n",
    "        print(f'El número es: {number}')\n",
    "    \n",
    "\n",
    "except Exception as e:\n",
    "    print(f'Error: {e}')\n",
    "\n",
    "# Especifica el número total de páginas a iterar\n",
    "num_pages =  int(number) # Reemplaza con el número real de páginas que necesitas iterar\n",
    "\n",
    "for _ in range(num_pages):\n",
    "    # Esperar hasta que la tabla esté presente\n",
    "    wait = WebDriverWait(browser, 10)\n",
    "    wait.until(EC.presence_of_element_located((By.ID, 'zk_comp_86-cave')))\n",
    "\n",
    "    # Obtener el contenido de la página actual\n",
    "    html = browser.page_source\n",
    "    soup = bs(html, 'lxml')\n",
    "    table = soup.find('table', {'id': 'zk_comp_86-cave'})\n",
    "    rows = table.find_all('tr')\n",
    "\n",
    "    # Extraer los datos de la tabla\n",
    "    data = []\n",
    "    for row in rows:\n",
    "        cols = row.find_all('td')\n",
    "        cols = [ele.text.strip() for ele in cols]\n",
    "        data.append(cols)\n",
    "\n",
    "    # Agregar los datos extraídos a la lista principal\n",
    "    all_data.extend(data)\n",
    "\n",
    "    # Intentar encontrar el botón para pasar a la siguiente página\n",
    "    try:\n",
    "        next_button = browser.find_element(By.NAME, 'zk_comp_98-next')\n",
    "        next_button.click()\n",
    "        time.sleep(3)\n",
    "    except Exception as e:\n",
    "        print(e)\n",
    "        break  # Salir del bucle si no se puede hacer clic en el botón de siguiente página\n",
    "\n",
    "# Mostrar todos los datos extraídos\n",
    "for item in all_data:\n",
    "    print(item)"
   ]
  },
  {
   "cell_type": "code",
   "execution_count": null,
   "metadata": {},
   "outputs": [],
   "source": [
    "filtered_data = [row for row in all_data if 'No se han encontrado resultados' not in row]\n",
    "\n",
    "columns = ['Indice', 'N° Certificado', 'Laboratorio','Nombre Comercial','Forma Farmacéutica','Presentación','Detalle','Genérico','Disponibilidad','Envase Secundario']\n",
    "df = pd.DataFrame(filtered_data, columns=columns)\n",
    "df2 = df.drop(columns=['Indice','Disponibilidad','Envase Secundario','Detalle'])\n",
    "df2"
   ]
  },
  {
   "cell_type": "code",
   "execution_count": 54,
   "metadata": {},
   "outputs": [],
   "source": [
    "df2.to_csv('papa.csv', index=False, encoding='utf-8-sig')"
   ]
  },
  {
   "cell_type": "code",
   "execution_count": null,
   "metadata": {},
   "outputs": [],
   "source": [
    "import csv\n",
    "# Nombre del archivo CSV que deseas crear\n",
    "csv_file = 'test.csv'\n",
    "\n",
    "# Escribir los datos en el archivo CSV\n",
    "with open(csv_file, 'w', newline='', encoding='utf-8-sig') as file:\n",
    "    writer = csv.writer(file)\n",
    "    writer.writerow(['Envase Secundario', 'N° Certificado', 'Laboratorio','Nombre Comercial','Forma Farmacéutica','Presentación','Detalle','Genérico','Disponibilidad'])\n",
    "\n",
    "print(f'Se han guardado los datos en \"{csv_file}\"')"
   ]
  }
 ],
 "metadata": {
  "kernelspec": {
   "display_name": "Python 3",
   "language": "python",
   "name": "python3"
  },
  "language_info": {
   "codemirror_mode": {
    "name": "ipython",
    "version": 3
   },
   "file_extension": ".py",
   "mimetype": "text/x-python",
   "name": "python",
   "nbconvert_exporter": "python",
   "pygments_lexer": "ipython3",
   "version": "3.12.2"
  }
 },
 "nbformat": 4,
 "nbformat_minor": 2
}
